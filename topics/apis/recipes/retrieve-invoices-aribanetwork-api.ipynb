{
 "cells": [
  {
   "cell_type": "markdown",
   "id": "exempt-restoration",
   "metadata": {},
   "source": [
    "![SAP Ariba logo](./images/sap-ariba-small.jpeg)  "
   ]
  },
  {
   "cell_type": "markdown",
   "id": "drawn-coverage",
   "metadata": {},
   "source": [
    "# Ariba Network Invoice Header Data Extraction API overview\n",
    "\n",
    "## Overview\n",
    "\n",
    "API for extracting supplier invoices from the Ariba Network.\n",
    "\n",
    "**API Documentation**\n",
    "https://help.sap.com/viewer/9e361d7c0ccc40f5840012785f249811/cloud/en-US/e3f2b8c8a878417bb3ff40db62050f8d.html"
   ]
  },
  {
   "cell_type": "markdown",
   "id": "sonic-mambo",
   "metadata": {},
   "source": [
    "## Importing required packages"
   ]
  },
  {
   "cell_type": "code",
   "execution_count": 113,
   "id": "hollywood-testing",
   "metadata": {},
   "outputs": [],
   "source": [
    "import json\n",
    "import requests\n",
    "import pandas as pd\n",
    "from pandas.io.json import json_normalize\n",
    "from IPython.display import display"
   ]
  },
  {
   "cell_type": "markdown",
   "id": "registered-kitchen",
   "metadata": {},
   "source": [
    "## Function retrieve authorization token"
   ]
  },
  {
   "cell_type": "code",
   "execution_count": 114,
   "id": "natural-state",
   "metadata": {},
   "outputs": [],
   "source": [
    "def get_access_token(base64_auth):\n",
    "    payload = {}\n",
    "    headers = {\n",
    "        \"Content-Type\": \"application/json\",\n",
    "        \"Authorization\": f\"Basic {base64_auth}\"\n",
    "    }\n",
    "    \n",
    "    response = requests.request(\"POST\", OAUTH_API_URL, headers=headers, data=payload)\n",
    "    \n",
    "    return response.json()[\"access_token\"]"
   ]
  },
  {
   "cell_type": "markdown",
   "id": "spare-chapel",
   "metadata": {},
   "source": [
    "## API details"
   ]
  },
  {
   "cell_type": "code",
   "execution_count": 115,
   "id": "statewide-graph",
   "metadata": {},
   "outputs": [],
   "source": [
    "# authentication server\n",
    "OAUTH_API_URL = \"https://api.ariba.com/v2/oauth/token?grant_type=client_credentials\"\n",
    "\n",
    "ANID = \"ANXXXXXXXXXX-T\" # replace by your own ANID\n",
    "\n",
    "# API credentials\n",
    "\n",
    "INV_EXTRACTOR_BASEURL = \"https://openapi.ariba.com/api/invoice-extraction/v1/prod/invoices\"\n",
    "INV_EXTRACTOR_APIKEY = \"XXXXXX\" # replace by your own Key\n",
    "INV_EXTRACTOR_BASE64 = \"XXXXXXX\" # replace by your own BASE64 secret\n"
   ]
  },
  {
   "cell_type": "code",
   "execution_count": 116,
   "id": "dense-explorer",
   "metadata": {},
   "outputs": [
    {
     "data": {
      "text/plain": [
       "'7bf054b8-74c9-4d0e-ac9c-a10c3639d57a'"
      ]
     },
     "execution_count": 116,
     "metadata": {},
     "output_type": "execute_result"
    }
   ],
   "source": [
    "INV_EXTRACTOR_TOKEN = get_access_token(INV_EXTRACTOR_BASE64)\n",
    "INV_EXTRACTOR_TOKEN"
   ]
  },
  {
   "cell_type": "markdown",
   "id": "equivalent-garbage",
   "metadata": {},
   "source": [
    "## Main Program"
   ]
  },
  {
   "cell_type": "code",
   "execution_count": 117,
   "id": "palestinian-groove",
   "metadata": {
    "scrolled": true
   },
   "outputs": [
    {
     "data": {
      "text/html": [
       "<div>\n",
       "<style scoped>\n",
       "    .dataframe tbody tr th:only-of-type {\n",
       "        vertical-align: middle;\n",
       "    }\n",
       "\n",
       "    .dataframe tbody tr th {\n",
       "        vertical-align: top;\n",
       "    }\n",
       "\n",
       "    .dataframe thead th {\n",
       "        text-align: right;\n",
       "    }\n",
       "</style>\n",
       "<table border=\"1\" class=\"dataframe\">\n",
       "  <thead>\n",
       "    <tr style=\"text-align: right;\">\n",
       "      <th></th>\n",
       "      <th>documentNumber</th>\n",
       "      <th>supplierName</th>\n",
       "      <th>supplierANID</th>\n",
       "      <th>buyerName</th>\n",
       "      <th>buyerANID</th>\n",
       "      <th>createdDate</th>\n",
       "      <th>documentDate</th>\n",
       "      <th>routingStatus</th>\n",
       "      <th>documentStatus</th>\n",
       "      <th>payloadId</th>\n",
       "      <th>...</th>\n",
       "      <th>externalOrderNumber</th>\n",
       "      <th>numberOfItems</th>\n",
       "      <th>purpose</th>\n",
       "      <th>signFromCountry</th>\n",
       "      <th>signToCountry</th>\n",
       "      <th>type</th>\n",
       "      <th>tax.amount</th>\n",
       "      <th>tax.currencyCode</th>\n",
       "      <th>totalAmount.amount</th>\n",
       "      <th>totalAmount.currencyCode</th>\n",
       "    </tr>\n",
       "  </thead>\n",
       "  <tbody>\n",
       "    <tr>\n",
       "      <th>0</th>\n",
       "      <td>testCM</td>\n",
       "      <td>Ariba Beta Supplier</td>\n",
       "      <td>AN01000111002-T</td>\n",
       "      <td>Hawkins - TEST</td>\n",
       "      <td>AN01426057983-T</td>\n",
       "      <td>2021-03-05T08:55:28-08:00</td>\n",
       "      <td>2021-03-05T08:55:13-08:00</td>\n",
       "      <td>Acknowledged</td>\n",
       "      <td>Sent</td>\n",
       "      <td>1614963313190-2878148584269456038@10.162.97.184</td>\n",
       "      <td>...</td>\n",
       "      <td>8100000043</td>\n",
       "      <td>1</td>\n",
       "      <td>lineLevelCreditMemo</td>\n",
       "      <td>US</td>\n",
       "      <td>US</td>\n",
       "      <td>TypeSinglePO</td>\n",
       "      <td>-700</td>\n",
       "      <td>USD</td>\n",
       "      <td>-10700</td>\n",
       "      <td>USD</td>\n",
       "    </tr>\n",
       "    <tr>\n",
       "      <th>1</th>\n",
       "      <td>ECCHIN00000024</td>\n",
       "      <td>GLOBAL SUPPLIER</td>\n",
       "      <td>AN01013579508-T</td>\n",
       "      <td>Hawkins - TEST</td>\n",
       "      <td>AN01426057983-T</td>\n",
       "      <td>2021-02-22T08:44:34-08:00</td>\n",
       "      <td>2021-02-22T08:42:28-08:00</td>\n",
       "      <td>Acknowledged</td>\n",
       "      <td>Rejected</td>\n",
       "      <td>z210222164229222654979b3@fieldglass.com</td>\n",
       "      <td>...</td>\n",
       "      <td>8200000025</td>\n",
       "      <td>1</td>\n",
       "      <td>standard</td>\n",
       "      <td>None</td>\n",
       "      <td>None</td>\n",
       "      <td>TypeSinglePO</td>\n",
       "      <td>0</td>\n",
       "      <td>USD</td>\n",
       "      <td>1940</td>\n",
       "      <td>USD</td>\n",
       "    </tr>\n",
       "    <tr>\n",
       "      <th>2</th>\n",
       "      <td>InvoiceFG22</td>\n",
       "      <td>GLOBAL SUPPLIER</td>\n",
       "      <td>AN01013579508-T</td>\n",
       "      <td>Hawkins - TEST</td>\n",
       "      <td>AN01426057983-T</td>\n",
       "      <td>2021-02-22T08:38:59-08:00</td>\n",
       "      <td>2021-02-18T02:30:00-08:00</td>\n",
       "      <td>Acknowledged</td>\n",
       "      <td>Approved</td>\n",
       "      <td>1614011932009.931567489.000000441@NnCFEoe+rte+...</td>\n",
       "      <td>...</td>\n",
       "      <td>None</td>\n",
       "      <td>1</td>\n",
       "      <td>standard</td>\n",
       "      <td>None</td>\n",
       "      <td>None</td>\n",
       "      <td>TypeExternalPO</td>\n",
       "      <td>0</td>\n",
       "      <td>USD</td>\n",
       "      <td>1</td>\n",
       "      <td>USD</td>\n",
       "    </tr>\n",
       "  </tbody>\n",
       "</table>\n",
       "<p>3 rows × 24 columns</p>\n",
       "</div>"
      ],
      "text/plain": [
       "   documentNumber         supplierName     supplierANID       buyerName  \\\n",
       "0          testCM  Ariba Beta Supplier  AN01000111002-T  Hawkins - TEST   \n",
       "1  ECCHIN00000024      GLOBAL SUPPLIER  AN01013579508-T  Hawkins - TEST   \n",
       "2     InvoiceFG22      GLOBAL SUPPLIER  AN01013579508-T  Hawkins - TEST   \n",
       "\n",
       "         buyerANID                createdDate               documentDate  \\\n",
       "0  AN01426057983-T  2021-03-05T08:55:28-08:00  2021-03-05T08:55:13-08:00   \n",
       "1  AN01426057983-T  2021-02-22T08:44:34-08:00  2021-02-22T08:42:28-08:00   \n",
       "2  AN01426057983-T  2021-02-22T08:38:59-08:00  2021-02-18T02:30:00-08:00   \n",
       "\n",
       "  routingStatus documentStatus  \\\n",
       "0  Acknowledged           Sent   \n",
       "1  Acknowledged       Rejected   \n",
       "2  Acknowledged       Approved   \n",
       "\n",
       "                                           payloadId  ... externalOrderNumber  \\\n",
       "0    1614963313190-2878148584269456038@10.162.97.184  ...          8100000043   \n",
       "1            z210222164229222654979b3@fieldglass.com  ...          8200000025   \n",
       "2  1614011932009.931567489.000000441@NnCFEoe+rte+...  ...                None   \n",
       "\n",
       "  numberOfItems              purpose signFromCountry signToCountry  \\\n",
       "0             1  lineLevelCreditMemo              US            US   \n",
       "1             1             standard            None          None   \n",
       "2             1             standard            None          None   \n",
       "\n",
       "             type tax.amount tax.currencyCode totalAmount.amount  \\\n",
       "0    TypeSinglePO       -700              USD             -10700   \n",
       "1    TypeSinglePO          0              USD               1940   \n",
       "2  TypeExternalPO          0              USD                  1   \n",
       "\n",
       "  totalAmount.currencyCode  \n",
       "0                      USD  \n",
       "1                      USD  \n",
       "2                      USD  \n",
       "\n",
       "[3 rows x 24 columns]"
      ]
     },
     "metadata": {},
     "output_type": "display_data"
    }
   ],
   "source": [
    "api_headers = {\n",
    "        \"Authorization\": f\"Bearer {INV_EXTRACTOR_TOKEN}\",\n",
    "        \"X-ARIBA-NETWORK-ID\": ANID,\n",
    "        \"apiKey\": INV_EXTRACTOR_APIKEY,\n",
    "        \"accept\": \"application/json\",\n",
    "    }\n",
    "\n",
    "#\n",
    "api_response = requests.get(\n",
    "    INV_EXTRACTOR_BASEURL,\n",
    "    headers=api_headers,\n",
    ")\n",
    "\n",
    "\n",
    "data = json.loads(api_response.text)[\"content\"]\n",
    "\n",
    "#flattening json\n",
    "list_of_invoices = pd.json_normalize(data, max_level=1)\n",
    "\n",
    "#transforming into DataFrame\n",
    "invoices = pd.DataFrame(list_of_invoices)\n",
    "\n",
    "#displaying invoices as a nice table html\n",
    "display(invoices)\n",
    "\n",
    "#convert to CSV (optional)\n",
    "invoices.to_csv(r\"invoice_test.csv\")\n",
    "\n"
   ]
  }
 ],
 "metadata": {
  "kernelspec": {
   "display_name": "Python 3",
   "language": "python",
   "name": "python3"
  },
  "language_info": {
   "codemirror_mode": {
    "name": "ipython",
    "version": 3
   },
   "file_extension": ".py",
   "mimetype": "text/x-python",
   "name": "python",
   "nbconvert_exporter": "python",
   "pygments_lexer": "ipython3",
   "version": "3.9.1"
  }
 },
 "nbformat": 4,
 "nbformat_minor": 5
}
